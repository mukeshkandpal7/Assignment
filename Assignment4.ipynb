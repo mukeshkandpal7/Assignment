{
 "cells": [
  {
   "cell_type": "code",
   "execution_count": 16,
   "metadata": {},
   "outputs": [
    {
     "name": "stdout",
     "output_type": "stream",
     "text": [
      "Enter first side: 6\n",
      "Enter second side: 7\n",
      "Enter third side: 8\n",
      "Input Received..\n",
      "Thank You!\n"
     ]
    },
    {
     "data": {
      "text/plain": [
       "'Area of triangle is: 20.33316256758894'"
      ]
     },
     "execution_count": 16,
     "metadata": {},
     "output_type": "execute_result"
    }
   ],
   "source": [
    "class Triangle:\n",
    "    def __init__(self):\n",
    "        while True:\n",
    "            try:\n",
    "                a=int(input(\"Enter first side: \"))\n",
    "                b=int(input(\"Enter second side: \"))\n",
    "                c=int(input(\"Enter third side: \"))\n",
    "                self.a=a\n",
    "                self.b=b\n",
    "                self.c=c\n",
    "            except:\n",
    "                print(\"Looks like you didn't provide correct values. Please try again.\")\n",
    "                continue\n",
    "            else:\n",
    "                print(\"Input Received..\")\n",
    "                break\n",
    "            finally:\n",
    "                print(\"Thank You!\")\n",
    "\n",
    "class Area(Triangle):\n",
    "    def __init__(self,*args):\n",
    "        super(Area,self).__init__(*args)\n",
    "        s=(self.a+self.b+self.c)/2\n",
    "        self.s=s\n",
    "        \n",
    "    def Area_Triangle(self):\n",
    "        return \"Area of triangle is: \"+ str((self.s*(self.s-self.a)*(self.s-self.b)*(self.s-self.c))**0.5)\n",
    "        \n",
    "x=Area()\n",
    "x.Area_Triangle()\n",
    "\n",
    "\n"
   ]
  },
  {
   "cell_type": "code",
   "execution_count": 2,
   "metadata": {},
   "outputs": [
    {
     "name": "stdout",
     "output_type": "stream",
     "text": [
      "['qwerty', 'qwertyu', 'asdfghjk']\n"
     ]
    }
   ],
   "source": [
    "def filter_long_words(l,n):\n",
    "    print(list(filter(lambda i:len(i)>n,l)))\n",
    "    \n",
    "filter_long_words([\"qwerty\",\"qwertyu\",\"asdfghjk\",\"as\",\"asd\",\"asdf\"],5)\n",
    "    "
   ]
  },
  {
   "cell_type": "code",
   "execution_count": 4,
   "metadata": {},
   "outputs": [
    {
     "name": "stdout",
     "output_type": "stream",
     "text": [
      "[6, 7, 8, 2, 3, 4]\n"
     ]
    }
   ],
   "source": [
    "def mapping(l):\n",
    "    print(list(map(lambda i:len(i),l)))\n",
    "    \n",
    "mapping([\"qwerty\",\"qwertyu\",\"asdfghjk\",\"as\",\"asd\",\"asdf\"])"
   ]
  },
  {
   "cell_type": "code",
   "execution_count": 11,
   "metadata": {},
   "outputs": [
    {
     "name": "stdout",
     "output_type": "stream",
     "text": [
      "Enter a character: gh\n",
      "Please enter single character and try again: \n",
      "Enter a character: E\n"
     ]
    },
    {
     "data": {
      "text/plain": [
       "True"
      ]
     },
     "execution_count": 11,
     "metadata": {},
     "output_type": "execute_result"
    }
   ],
   "source": [
    "def IsVowel():\n",
    "    while True:\n",
    "        a=input(\"Enter a character: \")\n",
    "        if len(a)!=1:\n",
    "            print(\"Please enter single character and try again: \")\n",
    "            continue\n",
    "        else:\n",
    "            break\n",
    "            \n",
    "    if a in (\"a\",\"e\",\"i\",\"o\",\"u\",\"A\",\"E\",\"I\",\"O\",\"U\"):\n",
    "        return True\n",
    "    else:\n",
    "        return False\n",
    "\n",
    "IsVowel()\n",
    "        "
   ]
  },
  {
   "cell_type": "code",
   "execution_count": null,
   "metadata": {},
   "outputs": [],
   "source": []
  }
 ],
 "metadata": {
  "kernelspec": {
   "display_name": "Python 3",
   "language": "python",
   "name": "python3"
  },
  "language_info": {
   "codemirror_mode": {
    "name": "ipython",
    "version": 3
   },
   "file_extension": ".py",
   "mimetype": "text/x-python",
   "name": "python",
   "nbconvert_exporter": "python",
   "pygments_lexer": "ipython3",
   "version": "3.7.3"
  }
 },
 "nbformat": 4,
 "nbformat_minor": 2
}
